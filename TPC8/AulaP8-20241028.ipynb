{
 "cells": [
  {
   "cell_type": "markdown",
   "id": "1e545158",
   "metadata": {},
   "source": [
    "# Aula Prática 8 (guião)\n",
    "### Semana de 28 de Outubro a 1 de Novembro de 2023\n",
    "### José Carlos Ramalho e Luís Cunha\n",
    "### Sinopsis:\n",
    "Consolidação e aferição de tudo o que foi feito até ao momento. "
   ]
  },
  {
   "cell_type": "markdown",
   "id": "9b9b5140-2b81-435e-9fc0-324437a7b453",
   "metadata": {},
   "source": [
    "### Assunto: Frações\n",
    "Vamos pensar num modelo: o que é uma fração estruturalmente?"
   ]
  },
  {
   "cell_type": "code",
   "execution_count": 1,
   "id": "5a6da5eb",
   "metadata": {},
   "outputs": [],
   "source": [
    "# Modelo duma fração\n",
    "f1 = (1,3)  # 1/3 \n",
    "# para escrever uma fração não precisamos de lista\n",
    "\n",
    "# Modelo duma lista de frações\n",
    "lf1 = [(1,2),(1,3),(1,4)] # 1/2, 1/3, 1/4\n",
    "#para escrever diversas frações precisamos de uma lista. Neste exercício temos 3 frações"
   ]
  },
  {
   "cell_type": "markdown",
   "id": "d477052b-e074-4a5d-ac12-85c2286a1e5f",
   "metadata": {},
   "source": [
    "### Construtor"
   ]
  },
  {
   "cell_type": "code",
   "execution_count": 3,
   "id": "33d1c7e9-22af-4473-9b21-3e7ce0fcf571",
   "metadata": {},
   "outputs": [
    {
     "data": {
      "text/plain": [
       "'1/3'"
      ]
     },
     "execution_count": 3,
     "metadata": {},
     "output_type": "execute_result"
    }
   ],
   "source": [
    "def criarFracao(numerador, denominador):\n",
    "    fracao = (numerador,denominador)\n",
    "    return fracao\n",
    "\n",
    "def verFracao(f):\n",
    "    numerador,denominador = f\n",
    "    res = f\"{numerador}/{denominador}\"\n",
    "    return res\n",
    "\n",
    "verFracao(f1)\n",
    "#objetivo da função verfração é criar uma string para se visualizar a fração"
   ]
  },
  {
   "cell_type": "code",
   "execution_count": 4,
   "id": "d46df3ff",
   "metadata": {},
   "outputs": [
    {
     "data": {
      "text/plain": [
       "'2/3'"
      ]
     },
     "execution_count": 4,
     "metadata": {},
     "output_type": "execute_result"
    }
   ],
   "source": [
    "f1 = criarFracao(2,3)\n",
    "verFracao(f1)"
   ]
  },
  {
   "cell_type": "markdown",
   "id": "f7cd0ff1",
   "metadata": {},
   "source": [
    "### Simplificação de frações"
   ]
  },
  {
   "cell_type": "code",
   "execution_count": 19,
   "id": "8b0fa08f",
   "metadata": {},
   "outputs": [
    {
     "name": "stdout",
     "output_type": "stream",
     "text": [
      "4\n",
      "6\n",
      "(11, 16)\n"
     ]
    }
   ],
   "source": [
    "#precisamos de encontrar o maior divisor comum para simplificar a fração\n",
    "#o mdc de a e b não muda se o maior número for substituído pelo resto da divisão com o menor número\n",
    "# exemplo: assumimos a = 48 e b = 18 e a % b = 12 e queremos calcular mdc(a,b). 1ª iteração: o \"a\" passa a ser o \"b\" e o \"b\" passa a ser o a % b, ou seja , a = 18, b = 12 e a%b = 6. 2ªiteração: a = 12 e b = 6 e a%b = 0 pois conseguimos dividir sem obter resto, logo b = 6 é o mdc\n",
    "\n",
    "#1: a = 48; b = 18; a%b = 12\n",
    "#2: a = 18; b = 12; a%b = 6\n",
    "#3: a = 12; b = 6; a%b = 0\n",
    "#são iguais na diagonal\n",
    "\n",
    "#versão iterativa\n",
    "def mdc(a,b):\n",
    "    if a < b:\n",
    "        a,b = b,a #troca caso o \"b\" passe a ser maior que o \"a\"\n",
    "    while a % b != 0:\n",
    "        res = b #fazemos isto para no caso inicial devolver logo o valor de b\n",
    "        b = a % b\n",
    "        a = res\n",
    "    return b\n",
    "print(mdc(16,4))\n",
    "\n",
    "#versão recursiva (cada chamada da função é uma iteração do ciclo)\n",
    "def mdc2(a,b):\n",
    "    if a < b:\n",
    "        a,b = b,a\n",
    "    if a % b == 0:\n",
    "        return b\n",
    "    else:\n",
    "        return mdc2(b, a % b)\n",
    "print(mdc2(48,18))\n",
    "#mdc(48,18) -> mdc(18,12) -> mdc(12,6) -> return 6\n",
    "\n",
    "def simplificarFracao(f):\n",
    "    return (f[0] // mdc2(f[0],f[1]), f[1] // mdc2(f[0],f[1])) #dividimos pelo mdc de cada um\n",
    "print(simplificarFracao((55, 80)))\n",
    "#a fração é um tuplo então temos de devolver um duplo com a fração simplificada"
   ]
  },
  {
   "cell_type": "code",
   "execution_count": 11,
   "id": "8821d031",
   "metadata": {},
   "outputs": [
    {
     "data": {
      "text/plain": [
       "'3/20'"
      ]
     },
     "execution_count": 11,
     "metadata": {},
     "output_type": "execute_result"
    }
   ],
   "source": [
    "verFracao(simplificarFracao(criarFracao(21, 140)))"
   ]
  },
  {
   "cell_type": "markdown",
   "id": "ca2f1736",
   "metadata": {},
   "source": [
    "### Frações equivalentes\n",
    "\n",
    "Defina uma função que recebe duas frações como argumento e devolve `True` se as frações são equivalentes e `False` caso contrário."
   ]
  },
  {
   "cell_type": "code",
   "execution_count": 24,
   "id": "58bdae83",
   "metadata": {},
   "outputs": [
    {
     "data": {
      "text/plain": [
       "True"
      ]
     },
     "execution_count": 24,
     "metadata": {},
     "output_type": "execute_result"
    }
   ],
   "source": [
    "def equivalenteFracao(f1,f2): #simplificamos a fração e vemos se são equivalentes\n",
    "    return simplificarFracao(f1) == simplificarFracao(f2)\n",
    "\n",
    "equivalenteFracao((1,2), (14,28))"
   ]
  },
  {
   "cell_type": "markdown",
   "id": "d52f012f",
   "metadata": {},
   "source": [
    "## Operações sobre frações"
   ]
  },
  {
   "cell_type": "code",
   "execution_count": 28,
   "id": "96ba280b",
   "metadata": {},
   "outputs": [
    {
     "name": "stdout",
     "output_type": "stream",
     "text": [
      "10/7\n",
      "1/1\n"
     ]
    }
   ],
   "source": [
    "def somarFrac(f1, f2):\n",
    "    return simplificarFracao((f1[0] * f2[1] + f2[0] * f1[1], f1[1] * f2[1])) #fazemos a multiplicação do numerados de um pelo denominador do outro e simplificamos\n",
    "\n",
    "f1 = criarFracao(15, 21)\n",
    "f2 = criarFracao(5,7)\n",
    "print(verFracao(somarFrac(f1,f2)))\n",
    "print(verFracao(somarFrac((1,2),(1,2))))"
   ]
  },
  {
   "cell_type": "code",
   "execution_count": 34,
   "id": "a0198bce",
   "metadata": {},
   "outputs": [
    {
     "name": "stdout",
     "output_type": "stream",
     "text": [
      "[(2, 12), (3, 5), (3, 18), (9, 18), (5, 11), (7, 14), (9, 2), (2, 9), (2, 19), (3, 6), (9, 17), (5, 4), (9, 6), (6, 5), (1, 12), (9, 15), (4, 16), (6, 6), (5, 7)]\n"
     ]
    }
   ],
   "source": [
    "listaFrac = [f1, f2, criarFracao(125,1000), (8,12)]\n",
    "listaFrac2 = []\n",
    "import random\n",
    "for i in range(1,20): #geranos 20 frações\n",
    "    n = random.randrange(1, 10) #geramos um numerador de 1,9\n",
    "    d = random.randrange(2, 20) #geramos um denominador de 2 a 19\n",
    "    listaFrac2.append(criarFracao(n,d))\n",
    "print(listaFrac2)"
   ]
  },
  {
   "cell_type": "markdown",
   "id": "e83e4eae",
   "metadata": {},
   "source": [
    "### Soma uma lista de frações"
   ]
  },
  {
   "cell_type": "code",
   "execution_count": 59,
   "id": "402d83f0",
   "metadata": {},
   "outputs": [
    {
     "name": "stdout",
     "output_type": "stream",
     "text": [
      "373/168\n",
      "66446137/4476780\n"
     ]
    }
   ],
   "source": [
    "def somarListaFrac(lista):\n",
    "    res = lista[0] #res é uma fração por isso não podemos iniciar em 0\n",
    "    for frac in lista[1:]:\n",
    "        res = somarFrac(res,frac) #faz a soma do res com as frações da lista\n",
    "    return res \n",
    "\n",
    "print(verFracao(somarListaFrac(listaFrac)))\n",
    "print(verFracao(somarListaFrac(listaFrac2)))"
   ]
  },
  {
   "cell_type": "markdown",
   "id": "a88929cc",
   "metadata": {},
   "source": [
    "### Multiplica 2 frações"
   ]
  },
  {
   "cell_type": "code",
   "execution_count": null,
   "id": "519c5358",
   "metadata": {},
   "outputs": [],
   "source": [
    "def multFrac(f1, f2):\n",
    "    # ???\n",
    "    return # ???"
   ]
  },
  {
   "cell_type": "markdown",
   "id": "d1f0c8fa",
   "metadata": {},
   "source": [
    "### Ordenar uma lista de frações por ordem decrescente"
   ]
  },
  {
   "cell_type": "code",
   "execution_count": 47,
   "id": "b783df02",
   "metadata": {},
   "outputs": [
    {
     "name": "stdout",
     "output_type": "stream",
     "text": [
      "[(15, 21), (5, 7), (8, 12), (125, 1000)]\n"
     ]
    }
   ],
   "source": [
    "def ordenaFrac(frac):\n",
    "    return frac[0] / frac[1]\n",
    "\n",
    "def ordenaFracDec(lista):\n",
    "    x = sorted(lista, key = ordenaFrac, reverse = True)\n",
    "    return x\n",
    "#return sorted(lista, key=lambda f: f[0]/f[1] , reverse = True)\n",
    "\n",
    "print(ordenaFracDec(listaFrac))"
   ]
  },
  {
   "cell_type": "markdown",
   "id": "fcd5b5d6",
   "metadata": {},
   "source": [
    "### Guardar uma lista de frações num ficheiro"
   ]
  },
  {
   "cell_type": "code",
   "execution_count": null,
   "id": "2840f9b2",
   "metadata": {},
   "outputs": [],
   "source": [
    "def gravaListaFrac(fnome, lista):\n",
    "    f = open(fnome,\"w\") #o \"w\" corresponde à premissa para escrever no ficheiro\n",
    "    for frac in lista:\n",
    "        f.write(f\"{frac[0]}/{frac[1]}\\n\")\n",
    "    f.close()\n",
    "    return "
   ]
  },
  {
   "cell_type": "code",
   "execution_count": null,
   "id": "e75fe6c7",
   "metadata": {},
   "outputs": [],
   "source": [
    "gravaListaFrac(\"fracoes.txt\", listaFrac)"
   ]
  },
  {
   "cell_type": "markdown",
   "id": "0664fcdc",
   "metadata": {},
   "source": [
    "### Recuperar uma lista de frações dum ficheiro"
   ]
  },
  {
   "cell_type": "code",
   "execution_count": null,
   "id": "82aece6e",
   "metadata": {},
   "outputs": [],
   "source": [
    "def carregaListaFrac(fnome):\n",
    "    res = []\n",
    "    f = open(fnome,\"w\")\n",
    "    for line in f:\n",
    "        line = line.strip() #vai tirar espaços em branco e neste caso é o \\n\n",
    "        n,d = line.split(\"/\") \n",
    "        res.append(int(n),int(d))\n",
    "    return res"
   ]
  },
  {
   "cell_type": "code",
   "execution_count": null,
   "id": "28457bf3",
   "metadata": {},
   "outputs": [],
   "source": [
    "listaAula = carregaListaFrac(\"fracoes.txt\")\n",
    "print(listaAula)"
   ]
  },
  {
   "cell_type": "markdown",
   "id": "4193a91b",
   "metadata": {},
   "source": [
    "## TPC8: Teste de aferição\n",
    "\n",
    "Resolva os problemas apresentados a seguir."
   ]
  },
  {
   "cell_type": "markdown",
   "id": "ecb162bd",
   "metadata": {},
   "source": [
    "### tpc-1. Especifique as seguintes listas em compreensão:"
   ]
  },
  {
   "cell_type": "markdown",
   "id": "4e758271",
   "metadata": {},
   "source": [
    "#### a) Lista formada pelos elementos que não são comuns às duas listas:"
   ]
  },
  {
   "cell_type": "code",
   "execution_count": 41,
   "id": "1fe48423",
   "metadata": {},
   "outputs": [
    {
     "name": "stdout",
     "output_type": "stream",
     "text": [
      "[1, 2, 3, 6, 7, 8]\n"
     ]
    }
   ],
   "source": [
    "lista1 = [1, 2, 3, 4, 5]\n",
    "lista2 = [4, 5, 6, 7, 8]  \n",
    "ncomuns = [i for i in lista1 if i not in lista2] + [j for j in lista2 if j not in lista1]\n",
    "print(ncomuns)\n",
    "# Resultado esperado: [1,2,3,7,8]"
   ]
  },
  {
   "cell_type": "markdown",
   "id": "0ded2f03",
   "metadata": {},
   "source": [
    "#### b) Lista formada pelas palavras do texto compostas por mais de 3 letras:"
   ]
  },
  {
   "cell_type": "code",
   "execution_count": 23,
   "id": "4ae7f5d0",
   "metadata": {},
   "outputs": [
    {
     "name": "stdout",
     "output_type": "stream",
     "text": [
      "['Vivia', 'poucos', 'anos', 'algures', 'concelho', 'Ribatejo', 'pequeno', 'lavrador', 'negociante', 'gado', 'chamado', 'Manuel', 'Peres', 'Vigário']\n"
     ]
    }
   ],
   "source": [
    "texto = \"\"\"Vivia há já não poucos anos algures num concelho do Ribatejo \n",
    "    um pequeno lavrador e negociante de gado chamado Manuel Peres Vigário\"\"\"\n",
    "lista = [l for l in texto.split() if len(l) > 3]\n",
    "print(lista)\n",
    "# Resultado esperado: ['Vivia', 'poucos', 'anos', 'algures', 'concelho', ...]"
   ]
  },
  {
   "cell_type": "markdown",
   "id": "ecf72afd",
   "metadata": {},
   "source": [
    "#### c) Lista formada por pares do tipo (índice, valor) com os valores da lista dada:"
   ]
  },
  {
   "cell_type": "code",
   "execution_count": 44,
   "id": "876b2cc3",
   "metadata": {},
   "outputs": [
    {
     "name": "stdout",
     "output_type": "stream",
     "text": [
      "[(1, 'anaconda'), (2, 'burro'), (3, 'cavalo'), (4, 'macaco')]\n"
     ]
    }
   ],
   "source": [
    "lista = ['anaconda', 'burro', 'cavalo', 'macaco']\n",
    "listaRes = [(i + 1, lista[i]) for i in range(len(lista))]\n",
    "print(listaRes)\n",
    "# Resultado esperado: [(1,'anaconda'), (2,'burro'), (3,'cavalo'), (4,'macaco')]"
   ]
  },
  {
   "cell_type": "markdown",
   "id": "28cb3dc4",
   "metadata": {},
   "source": [
    "### tpc-2. À semelhança do que foi feito nas aulas, realize as seguintes tarefas:"
   ]
  },
  {
   "cell_type": "markdown",
   "id": "5d3f1dbe",
   "metadata": {},
   "source": [
    "#### a) Especifique uma função que dada uma string e uma substring não vazia, calcula  o número de vezes em que a substring aparece na string, sem que haja sobreposição de substrings:"
   ]
  },
  {
   "cell_type": "code",
   "execution_count": 1,
   "id": "4458c7bc",
   "metadata": {},
   "outputs": [
    {
     "name": "stdout",
     "output_type": "stream",
     "text": [
      "2\n",
      "1\n",
      "0\n"
     ]
    }
   ],
   "source": [
    "def strCount(s, subs):\n",
    "    soma = s.count(subs)\n",
    "    return soma\n",
    "\n",
    "print(strCount(\"catcowcat\", \"cat\")) # --> 2\n",
    "print(strCount(\"catcowcat\", \"cow\")) # --> 1\n",
    "print(strCount(\"catcowcat\", \"dog\")) # --> 0"
   ]
  },
  {
   "cell_type": "markdown",
   "id": "e6db31d7",
   "metadata": {},
   "source": [
    "#### b) Especifique uma função que recebe uma lista de números inteiros positivos e devolve o menor produto que for possível calcular multiplicando os 3 menores inteiros da lista:"
   ]
  },
  {
   "cell_type": "code",
   "execution_count": 48,
   "id": "2b5ad344",
   "metadata": {},
   "outputs": [
    {
     "name": "stdout",
     "output_type": "stream",
     "text": [
      "168\n"
     ]
    }
   ],
   "source": [
    "def produtoM3(lista):\n",
    "    lista.sort() #não podemos igualar isto a uma nova lista porque o sort() não retorna uma nova lista, apenas altera a original\n",
    "    multiplicacao = lista[0] * lista[1] * lista[2]\n",
    "    return multiplicacao\n",
    "\n",
    "print(produtoM3([12,3,7,10,12,8,9]))\n",
    "# Resultado esperado: 168 = 3 * 7 * 8"
   ]
  },
  {
   "cell_type": "markdown",
   "id": "6698b337",
   "metadata": {},
   "source": [
    "#### c) Especifique uma função que dado um número inteiro positivo, repetidamente adiciona os seus dígitos até obter apenas um dígito que é retornado como resultado:"
   ]
  },
  {
   "cell_type": "code",
   "execution_count": 57,
   "id": "54cef309",
   "metadata": {},
   "outputs": [
    {
     "name": "stdout",
     "output_type": "stream",
     "text": [
      "2\n",
      "3\n"
     ]
    }
   ],
   "source": [
    "# Input: 38\n",
    "# Output: 2\n",
    "# Explicação: 3 + 8 = 11, 1 + 1 = 2.\n",
    "\n",
    "# Input: 777\n",
    "# Output: 3\n",
    "# Explicação: 7 + 7 + 7 = 21, 2 + 1 = 3.\n",
    "\n",
    "def reduxInt(n):\n",
    "    while n >= 10:\n",
    "        soma = 0\n",
    "        for i in str(n):\n",
    "            soma = soma + int(i)\n",
    "        n = soma #fazemos isto para ir atribuindo as somas ao n. A cada iteração ele vai verificar se n dá um resultado com dois dígitos e para quando n só tiver 1 digito\n",
    "    return n\n",
    "\n",
    "print(reduxInt(38))\n",
    "print(reduxInt(777))"
   ]
  },
  {
   "cell_type": "markdown",
   "id": "4a47b6e8",
   "metadata": {},
   "source": [
    "#### d) Especifique uma função que recebe duas strings, `string1` e `string2`, e devolve o índice da primeira ocorrência de `string2` em `string1`, caso não ocorra nenhuma vez a função deverá retornar `-1`:"
   ]
  },
  {
   "cell_type": "code",
   "execution_count": 2,
   "id": "f0f4c2a8",
   "metadata": {},
   "outputs": [
    {
     "name": "stdout",
     "output_type": "stream",
     "text": [
      "13\n",
      "-1\n"
     ]
    }
   ],
   "source": [
    "# Invocação: indexOf(\"Hoje está um belo dia de sol!\", \"belo\")\n",
    "# Resultado: 13\n",
    "\n",
    "# Invocação: indexOf(\"Hoje está um belo dia de sol!\", \"chuva\")\n",
    "# Resultado: -1\n",
    "\n",
    "def myIndexOf(s1, s2):\n",
    "    len_s1 = len(s1)\n",
    "    len_s2 = len(s2)\n",
    "\n",
    "    if len_s2 == 0 or len_s2 > len_s1:\n",
    "        return -1\n",
    "    \n",
    "    for i in range(len_s1 - len_s2 + 1):\n",
    "        if s1[i:i + len_s2] == s2:\n",
    "            return i  \n",
    "    \n",
    "    return -1 \n",
    "\n",
    "print(myIndexOf(\"Hoje está um belo dia de sol!\", \"belo\"))  \n",
    "print(myIndexOf(\"Hoje está um belo dia de sol!\", \"chuva\"))"
   ]
  },
  {
   "cell_type": "markdown",
   "id": "7cd572fc",
   "metadata": {},
   "source": [
    "### tpc-3. A Rede Social\n",
    "\n",
    "Considere que a informação sobre uma rede social está armazenada numa lista de dicionários.\n",
    "\n",
    "Cada dicionário, correspondente a um _post_ e tem chaves `id`, `conteudo`, `autor`, `dataCriacao` e `comentarios`.\n",
    "Por sua vez, `comentarios` é uma lista de dicionários com chaves `comentario` e `autor`.\n",
    "\n",
    "Considere o seguinte exemplo:\n",
    "\n",
    "``` \n",
    "    MyFaceBook = [{\n",
    "        'id': 'p1', \n",
    "        'conteudo': 'A tarefa de avaliação é talvez a mais ingrata das tarefas que um professor\n",
    "    tem de realizar...', \n",
    "        'autor': 'jcr', \n",
    "        'dataCriacao': '2023-07-20', \n",
    "        'comentarios': [\n",
    "            {\n",
    "                'comentario': 'Completamente de acordo...',\n",
    "                'autor': 'prh'\n",
    "            },\n",
    "            {\n",
    "                'comentario': 'Mas há quem goste...',\n",
    "                'autor': 'jj'\n",
    "            }\n",
    "        ]},\n",
    "        {\n",
    "            'id': 'p2',\n",
    "            ...\n",
    "        },\n",
    "        ...\n",
    "        ]\n",
    "```"
   ]
  },
  {
   "cell_type": "markdown",
   "id": "89afc758",
   "metadata": {},
   "source": [
    "Defina as seguintes funções de manipulação e consulta da rede social:"
   ]
  },
  {
   "cell_type": "markdown",
   "id": "1aec6cd8",
   "metadata": {},
   "source": [
    "#### a) `quantosPost`, que indica quantos posts estão registados:"
   ]
  },
  {
   "cell_type": "code",
   "execution_count": null,
   "id": "39a813ee",
   "metadata": {},
   "outputs": [],
   "source": [
    "def quantosPost(redeSocial):\n",
    "    return len(redeSocial)"
   ]
  },
  {
   "cell_type": "markdown",
   "id": "2156a0c8",
   "metadata": {},
   "source": [
    "#### b)  `postsAutor`, que devolve a lista de posts de um determinado autor:"
   ]
  },
  {
   "cell_type": "code",
   "execution_count": null,
   "id": "8a5a2a41",
   "metadata": {},
   "outputs": [],
   "source": [
    "def postsAutor(redeSocial, autor):\n",
    "    posts_do_autor = []\n",
    "    \n",
    "    for post in redeSocial:\n",
    "        if post['autor'] == autor: \n",
    "            posts_do_autor.append(post)  \n",
    "    \n",
    "    return posts_do_autor"
   ]
  },
  {
   "cell_type": "markdown",
   "id": "12f9126b",
   "metadata": {},
   "source": [
    "#### c) `autores`, que devolve a lista de autores de posts ordenada alfabeticamente:"
   ]
  },
  {
   "cell_type": "code",
   "execution_count": null,
   "id": "d9dfe30a",
   "metadata": {},
   "outputs": [],
   "source": [
    "def autores(redeSocial):\n",
    "    autores_unicos = {post['autor'] for post in redeSocial}\n",
    "    \n",
    "    lista_autores = sorted(autores_unicos)\n",
    "    \n",
    "    return lista_autores"
   ]
  },
  {
   "cell_type": "markdown",
   "id": "1a0f760b",
   "metadata": {},
   "source": [
    "#### d) `insPost`, que acrescenta um novo post à rede social a partir dos parâmetros recebidos e devolve a nova rede social. \n",
    "    \n",
    "O campo `id` devrá ser calculado a partir dos já existentes, por exemplo, se a rede tiver posts com id `p1`, `p2` e `p3`, o novo `id` deverá ser `p4`."
   ]
  },
  {
   "cell_type": "code",
   "execution_count": null,
   "id": "a00c85e3",
   "metadata": {},
   "outputs": [],
   "source": [
    "def insPost(redeSocial, conteudo, autor, dataCriacao, comentarios):\n",
    "    novo_id = 'p1'\n",
    "\n",
    "    for post in redeSocial:\n",
    "        id_atual = int(post['id'][1:])\n",
    "        if id_atual >= int(novo_id[1:]):\n",
    "            novo_id = f'p{id_atual + 1}'\n",
    "    \n",
    "    novo_post = {\n",
    "        'id': novo_id,\n",
    "        'conteudo': conteudo,\n",
    "        'autor': autor,\n",
    "        'dataCriacao': dataCriacao,\n",
    "        'comentarios': comentarios\n",
    "    }\n",
    "    \n",
    "    redeSocial.append(novo_post)\n",
    "    \n",
    "    return redeSocial"
   ]
  },
  {
   "cell_type": "markdown",
   "id": "65061d0a",
   "metadata": {},
   "source": [
    "#### e)  `remPost`, que remove um post da rede, correspondente ao `id` recebido."
   ]
  },
  {
   "cell_type": "code",
   "execution_count": null,
   "id": "dc1adabc",
   "metadata": {},
   "outputs": [],
   "source": [
    "def remPost(redeSocial, id):\n",
    "    for i in range(len(redeSocial)):\n",
    "        if redeSocial[i]['id'] == id:\n",
    "            del redeSocial[i]  \n",
    "            return redeSocial  \n",
    "    \n",
    "    return redeSocial "
   ]
  },
  {
   "cell_type": "markdown",
   "id": "de46a635",
   "metadata": {},
   "source": [
    "#### f) `postsPorAutor`, que devolve uma distribuição de posts por autor (à semelhança do que foi feito nas aulas)."
   ]
  },
  {
   "cell_type": "code",
   "execution_count": null,
   "id": "4118730d",
   "metadata": {},
   "outputs": [],
   "source": [
    "def postsPorAutor(redeSocial):\n",
    "    distribuicao = {}\n",
    "\n",
    "    for post in redeSocial:\n",
    "        autor = post['autor']  \n",
    "        if autor not in distribuicao:\n",
    "            distribuicao[autor] = []  \n",
    "        distribuicao[autor].append(post)  \n",
    "    \n",
    "    return distribuicao"
   ]
  },
  {
   "cell_type": "markdown",
   "id": "5b1d7d7a",
   "metadata": {},
   "source": [
    "#### g) `comentadoPor`, que recebe um autor e devolve a lista de posts comentados por esse autor."
   ]
  },
  {
   "cell_type": "code",
   "execution_count": null,
   "id": "a91f2619",
   "metadata": {},
   "outputs": [],
   "source": [
    "def comentadoPor(redeSocial, autor):\n",
    "    posts_comentados = []\n",
    "    \n",
    "    for post in redeSocial:\n",
    "        autor_comentou = False\n",
    "        \n",
    "        for comentario in post['comentarios']:\n",
    "            if comentario['autor'] == autor:\n",
    "                autor_comentou = True  \n",
    "        \n",
    "        if autor_comentou:\n",
    "            posts_comentados.append(post)\n",
    "    \n",
    "    return posts_comentados"
   ]
  }
 ],
 "metadata": {
  "kernelspec": {
   "display_name": "Python 3",
   "language": "python",
   "name": "python3"
  },
  "language_info": {
   "codemirror_mode": {
    "name": "ipython",
    "version": 3
   },
   "file_extension": ".py",
   "mimetype": "text/x-python",
   "name": "python",
   "nbconvert_exporter": "python",
   "pygments_lexer": "ipython3",
   "version": "3.10.11"
  }
 },
 "nbformat": 4,
 "nbformat_minor": 5
}
