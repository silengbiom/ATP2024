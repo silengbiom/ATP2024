{
 "cells": [
  {
   "cell_type": "markdown",
   "metadata": {},
   "source": [
    "Jogo dos 21 Fósforos:"
   ]
  },
  {
   "cell_type": "code",
   "execution_count": 2,
   "metadata": {},
   "outputs": [
    {
     "name": "stdout",
     "output_type": "stream",
     "text": [
      "O computador tirou 2 fosforos e sobraram 19\n",
      "O jogador tirou 4 fosforos e sobraram 15\n",
      "O computador tirou 3 fosforos e sobraram 12\n",
      "O jogador tirou 4 fosforos e sobraram 8\n",
      "O computador tirou 1 fosforos e sobraram 7\n",
      "O jogador tirou 3 fosforos e sobraram 4\n",
      "O computador tirou 1 fosforos e sobraram 3\n",
      "O jogador tirou 2 fosforos e sobraram 1\n",
      "O computador tirou 1 fosforos e sobraram 0\n",
      "O computador perdeu!!\n"
     ]
    }
   ],
   "source": [
    "import random\n",
    "\n",
    "def jogar1():\n",
    "    numero_fosforos = 21\n",
    "    jogador = \"\"\n",
    "    while numero_fosforos > 0:\n",
    "        n = int(input(\"Retire entre 1 e 4 fósforos.\"))\n",
    "        while n < 1 or n > 4 or n > numero_fosforos:\n",
    "            print (\"Opção inválida. Tente novamente:\")\n",
    "            n = int(input(\"Escolha um número entre 1 e 4 para tirar os fósforos!\"))\n",
    "        numero_fosforos = numero_fosforos - n\n",
    "        print (\"O jogador tirou\",n,\"fosforos e sobraram\",numero_fosforos)\n",
    "        if numero_fosforos == 0:\n",
    "            jogador = \"jogador\"\n",
    "        else: \n",
    "            if (numero_fosforos - 1) % 5 == 0:\n",
    "                y = random.randint(1,4)\n",
    "            else:\n",
    "                y = (numero_fosforos - 1) % 5\n",
    "            numero_fosforos = numero_fosforos - y\n",
    "            print (\"O computador tirou\",y,\"fosforo e sobraram\",numero_fosforos)\n",
    "            if numero_fosforos == 0:\n",
    "                jogador = \"computador\"\n",
    "    return jogador\n",
    "\n",
    "def jogar2():\n",
    "    numero_fosforos = 21\n",
    "    jogador = \"\"\n",
    "    while numero_fosforos > 0:\n",
    "        y = random.randint(1,4)\n",
    "        if y > numero_fosforos:\n",
    "            y = numero_fosforos\n",
    "        numero_fosforos = numero_fosforos - y\n",
    "        print (\"O computador tirou\",y,\"fosforos e sobraram\",numero_fosforos)\n",
    "        if numero_fosforos == 0:\n",
    "            jogador = \"computador\"\n",
    "        else:\n",
    "            n = int(input(\"Introduz um número entre 1 e 4:\"))\n",
    "            while n < 1 or n > 4 or n > numero_fosforos:\n",
    "                print (\"Opção inválida. Tente novamente:\")\n",
    "                n = int(input(\"Introduz um número entre 1 e 4\"))\n",
    "            numero_fosforos = numero_fosforos - n\n",
    "            print (\"O jogador tirou\",n,\"fosforos e sobraram\",numero_fosforos)\n",
    "            if numero_fosforos == 0:\n",
    "                jogador = \"jogador\"\n",
    "    return jogador\n",
    "\n",
    "escolha = int(input(\"Escolha o modo 1 ou 2 para jogar: (1- O jogador joga primeiro; 2- O computador joga primeiro)\"))\n",
    "if escolha == 1:\n",
    "    resultado = jogar1()\n",
    "else:\n",
    "    resultado = jogar2()\n",
    "\n",
    "if resultado == \"jogador\":\n",
    "    print(\"Tu Perdeste!!\")\n",
    "else:\n",
    "    print(\"O computador perdeu!!\")\n"
   ]
  }
 ],
 "metadata": {
  "kernelspec": {
   "display_name": "Python 3",
   "language": "python",
   "name": "python3"
  },
  "language_info": {
   "codemirror_mode": {
    "name": "ipython",
    "version": 3
   },
   "file_extension": ".py",
   "mimetype": "text/x-python",
   "name": "python",
   "nbconvert_exporter": "python",
   "pygments_lexer": "ipython3",
   "version": "3.10.11"
  }
 },
 "nbformat": 4,
 "nbformat_minor": 2
}
