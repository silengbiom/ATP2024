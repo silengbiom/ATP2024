{
 "cells": [
  {
   "cell_type": "markdown",
   "metadata": {},
   "source": [
    "TPC 2:"
   ]
  },
  {
   "cell_type": "code",
   "execution_count": null,
   "metadata": {},
   "outputs": [],
   "source": [
    "import random\n",
    "\n",
    "modo = input(\"Escolhe quem vai adivinhar (Computador/Jogador): \")\n",
    "\n",
    "if modo.lower() == \"jogador\":\n",
    "    numero_secreto = random.randint(0, 100)\n",
    "    tentativas = 0\n",
    "    palpite = int(input(\"Qual é o número que estou a pensar? \"))\n",
    "\n",
    "    while palpite != numero_secreto:\n",
    "        tentativas += 1\n",
    "\n",
    "        if palpite < numero_secreto:\n",
    "            print(\"O número que pensei é maior do que \" + str(palpite) + \".\")\n",
    "        else:\n",
    "            print(\"O número que pensei é menor do que \" + str(palpite) + \".\")\n",
    "        \n",
    "        palpite = int(input(\"Tente adivinhar o número: \"))\n",
    "\n",
    "    tentativas += 1  \n",
    "    print(\"Acertaste!!\")\n",
    "    print(\"Conseguiste adivinhar em \" + str(tentativas) + \" tentativas.\")\n",
    "\n",
    "else:   \n",
    "    limite_inferior = 0\n",
    "    limite_superior = 100\n",
    "    intervalo = limite_superior - limite_inferior\n",
    "    resposta_certa = limite_inferior + intervalo / 2\n",
    "\n",
    "    resposta_utilizador = input(f\"O teu número é {resposta_certa}? (sim/maior/menor)\")\n",
    "    conta = 1\n",
    "\n",
    "    while resposta_utilizador != \"sim\":\n",
    "        if resposta_utilizador == \"maior\":\n",
    "            limite_inferior = resposta_certa\n",
    "        else:  \n",
    "            limite_superior = resposta_certa\n",
    "\n",
    "        intervalo = limite_superior - limite_inferior\n",
    "\n",
    "        if intervalo % 2 == 0:\n",
    "            resposta_certa = limite_inferior + intervalo / 2\n",
    "        else:\n",
    "            resposta_certa = limite_inferior + intervalo / 2 + 0.5\n",
    "\n",
    "        resposta_utilizador = input(f\"O teu número é {resposta_certa}? (sim/maior/menor)\")\n",
    "        conta += 1\n",
    "\n",
    "    print(f\"Acertei em {conta} tentativas.\")"
   ]
  }
 ],
 "metadata": {
  "kernelspec": {
   "display_name": "Python 3",
   "language": "python",
   "name": "python3"
  },
  "language_info": {
   "codemirror_mode": {
    "name": "ipython",
    "version": 3
   },
   "file_extension": ".py",
   "mimetype": "text/x-python",
   "name": "python",
   "nbconvert_exporter": "python",
   "pygments_lexer": "ipython3",
   "version": "3.10.11"
  }
 },
 "nbformat": 4,
 "nbformat_minor": 2
}
